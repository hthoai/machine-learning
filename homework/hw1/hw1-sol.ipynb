{
 "cells": [
  {
   "cell_type": "markdown",
   "metadata": {},
   "source": [
    "# Bài tập 1\n",
    "\n",
    "\n",
    "Hồng Thanh Hoài - 1612855\n",
    "\n",
    "---"
   ]
  },
  {
   "cell_type": "markdown",
   "metadata": {},
   "source": [
    "## 1.\n",
    "\n",
    "(i) Ở đây, ta đã có đầy đủ các thông tin về kích thước, trọng lượng và mệnh giá của mỗi đồng xu. Do đó, ta đã có thể tìm được hàm f để xác định một đồng xu thuộc loại nào, tức là có thể *write it down mathematically* nên đây không phải là học máy.\n",
    "\n",
    "(ii) Ở trường hợp này, ta không có thông tin về các loại đồng xu, nhưng bản thân ta có thể phân biệt được (*a pattern exists*), dù ta không biết bộ não đã dùng \"hàm f gì\" để làm điều đó (*can't write it down mathematically*), ta lại có tập dữ liệu đã được dán nhãn là từng đồng xu thuộc loại nào (*have data on it*). Do đó đây là học máy và là học có giám sát (dữ liệu có nhãn dán) - *Supervised Learning*.\n",
    "\n",
    "(iii) Ví dụ này đã thỏa ba điều kiện để có thể áp dụng học máy. (1) Chúng ta bằng một cách nào đó, tuân theo  luật chơi và có thể dành chiến thắng (*a pattern exists*), (2) tuy nhiên lại không có công thức cụ thể và chính xác cho điều này (*can't write it down mathematically*). Ở trường hợp, ta không được cung cấp sẵn những màn chơi để học từ chúng. Tuy nhiên, (3) thông quá trình chơi đi chơi lại theo thời gian và chờ đợi phản hồi của môi trường xung quanh, dữ liệu được tạo ra/cập nhật liên tục, sau đó dựa vào việc thưởng/phạt cho các nước đi dẫn đến chiến thắng/thua cuộc, nó sẽ điều chỉnh lại cách thức ra quyết định của mình. Đây chính là học tăng cường - *Reinforcement Learning*.\n",
    "\n",
    "**Do đó, đáp án đúng là [d] (i) Not learning, (ii) Supervised Learning, (iii) Reinforcement Learning**"
   ]
  },
  {
   "cell_type": "markdown",
   "metadata": {},
   "source": [
    "## 2.\n",
    "\n",
    "(i) Để xác định một số có phải là số nguyên tố hay không, ta đã có công thức cho nó (chỉ chia hết cho một và chính nó). Do vậy, vấn đề này không phù hợp để áp dụng học máy.\n",
    "\n",
    "(ii) Ở bài toán, ta biết có một \"pattern\" trong đầu mình để xác định một giao dịch thẻ tín dụng có gian lận hay không, nhưng không thể \"write it down mathematically\". Dẫu vậy, ta có thể dựa vào những \"record\" trong lịch sử làm dữ liệu để học ra quyết định (*have data on it*). Nên có thể áp dụng học máy.\n",
    "\n",
    "(iii) Có công thức vật lý để tính thời gian rơi tự do của một vật thể. Do đó không cần thiết áp dụng học máy.\n",
    "\n",
    "(iv) Dựa vào quan sát, ta có thể biết ở thời điểm nào thì thời gian của từng tín hiệu giao thông là tối ưu nhất (*pattern exists*), nhưng không có một công thức chính xác và cụ thể nào cả (*can't write it down mathematically*), nhưng lại có thể dựa vào lưu lượng giao thông ở từng thời điểm trong ngày, tuần... của một ngã tư nào đó ở quá khứ cũng như thời gian thực để học đưa ra quyết định (*have data*). Do đó, có thể áp dụng học máy.\n",
    "\n",
    "**Do đó, đáp án đúng là [a] (ii) and (iv)**"
   ]
  },
  {
   "cell_type": "markdown",
   "metadata": {},
   "source": [
    "## 3.\n",
    "\n",
    "Gọi $A$ là sự kiện lấy được bi đen ở lần 1, $B$ là sự kiện lấy được bi đen ở lần 2, ta có: $P(A)=\\frac{1}{2}\\times1+\\frac{1}{2}\\times\\frac{1}{2}=\\frac{3}{4}$\n",
    "\n",
    "Vì lấy bi lần 2 cũng chính trên túi đã lấy bi lần một, nên xác xuất cả hai lần đều lấy được bi đen chính là xác suất lấy được túi thứ nhất: $P(AB)=\\frac{1}{2}$\n",
    "\n",
    "Theo công thức xác suất có điều kiện, ta có: $P(B|A)=\\frac{P(AB)}{P(A)}=\\frac{\\frac{1}{2}}{\\frac{3}{4}}=\\frac{2}{3}$\n",
    "\n",
    "**Do đó, đáp án đúng là [d] 2/3**"
   ]
  },
  {
   "cell_type": "markdown",
   "metadata": {},
   "source": [
    "## 4.\n",
    "\n",
    "Ta có xác suất để lấy được bi đỏ từ bình chứa là: $\\mu=0.55$\n",
    "\n",
    "Xác suất để bi lấy ra không phải đỏ là: $\\neg \\mu=1-0.55=0.45$\n",
    "\n",
    "Vậy, xác suất để lấy được một mẫu 10 bi mà không có bất kỳ bi đỏ nào là: $P(A)=0.45^{10}\\approx0.00034050628916015635$\n",
    "\n",
    "**Do đó, đáp án đúng là [b] 3.405×10−4**"
   ]
  },
  {
   "cell_type": "markdown",
   "metadata": {},
   "source": [
    "## 5.\n",
    "\n",
    "Từ câu 4, ta có xác suất để lấy được một mẫu 10 bi có ít nhất một bi đỏ là: $P(B)=1-P(A)=1-0.45^{10}$\n",
    "\n",
    "Xác suất để trong số 1000 mẫu, có ít nhất một mẫu có ít nhất một bi đỏ là: $P(C)=P(B)^{1000}=(1-0.45^{10})^{1000}$\n",
    "\n",
    "Vây, xác suất để trong số 1000 mẫu, có ít nhất một mẫu không có bi đỏ nào là: $P(D)=1-P(C)=1-(1-0.45^{10})^{1000} \\approx  0.28863119784980995$\n",
    "\n",
    "**Do đó, đáp án đúng là [c] 0.289**"
   ]
  },
  {
   "cell_type": "markdown",
   "metadata": {},
   "source": [
    "## 6.\n",
    "\n"
   ]
  },
  {
   "cell_type": "markdown",
   "metadata": {},
   "source": [
    "Ta có 3 mẫu nằm ngoài $D$: $[1, 0, 1], [1, 1, 0], [1, 1, 1]$.\n",
    "\n",
    "Với 3 mẫu nằm ngoài $D$, mỗi mẫu trả về các kết quả là 0 hoặc 1, ta có tất cả $2^3=8$ trường hợp:\n",
    "\n",
    "$[0, 0, 0],   [1, 0, 0],   [0, 1, 0],   [0, 0, 1],   [1, 1, 0],   [1, 0, 1],   [0, 1, 1],   [1, 1, 1]$\n",
    "\n",
    "**[a]** $g=[1, 1, 1]$: có 1 trường hợp cả 3 mẫu trả về 1, 3 trường hợp có 2 mẫu trả về 1 và 3 trường hợp có 1 mẫu trả về 1.\n",
    "\n",
    "$score=1*3+3*2+3*1=12$\n",
    "\n",
    "**[b]** $g=[0, 0, 0]$: có 1 trường hợp cả 3 mẫu trả về 0, 3 trường hợp có 2 mẫu trả về 0 và 3 trường hợp có 1 mẫu trả về 0.\n",
    "\n",
    "$score=1*3+3*2+3*1=12$\n",
    "\n",
    "**[c]** $g=[0, 0, 1]$ *($g$ trả về 1 khi số lượng 1 trong mẫu là lẻ, trả về 0 khi số lượng 1 trong mẫu là chẵn)*: có 1 trường hợp 3 mẫu trên trả về $[0, 0, 1]$, 3 trường hợp có hai mẫu đúng ($[0, 0, 0], [1, 0, 1], [0, 1, 1]$), 3 trường hợp có 1 mẫu đúng ($[0, 0, 0], [1, 0, 1], [0, 1, 1]$). \n",
    "\n",
    "$score=1*3+3*2+3*1=12$\n",
    "\n",
    "**[d]** $g=[1, 1, 0]$: có một trường hợp 3 mẫu trên trả về $[1, 1, 0]$, 3 trường hợp có hai mẫu đúng ($[1, 0, 0], [0, 1, 0], [1, 1, 1]$), 3 trường hợp có 1 mẫu đúng ($[0, 0, 0], [1, 0, 1], [0, 1, 1]$).\n",
    "\n",
    "$score=1*3+3*2+3*1=12$\n",
    "\n",
    "Như vậy, cả 4 câu trên đều có cùng $score$.\n",
    "\n",
    "**Do đó, đáp án đúng là [e] They are all equivalent (equal scores for g in [a] through [d]).**"
   ]
  },
  {
   "cell_type": "markdown",
   "metadata": {},
   "source": [
    "## 7-10."
   ]
  },
  {
   "cell_type": "markdown",
   "metadata": {},
   "source": [
    "### Import các thư viện cần thiết"
   ]
  },
  {
   "cell_type": "code",
   "execution_count": 1,
   "metadata": {},
   "outputs": [],
   "source": [
    "import numpy as np"
   ]
  },
  {
   "cell_type": "markdown",
   "metadata": {},
   "source": [
    "### Định nghĩa các hàm"
   ]
  },
  {
   "cell_type": "markdown",
   "metadata": {},
   "source": [
    "#### Hàm phát sinh ra `target_w`, vector tham số của $f$"
   ]
  },
  {
   "cell_type": "code",
   "execution_count": 2,
   "metadata": {},
   "outputs": [],
   "source": [
    "def generate_target_w():\n",
    "    \"\"\"\n",
    "    Generates target_w from two random, uniformly distributed points in [-1, 1] x [-1, 1].\n",
    "    \n",
    "    Returns\n",
    "    -------\n",
    "    target_w : numpy array, shape (3, 1) \n",
    "        The vector of parameters of f.\n",
    "    \"\"\"\n",
    "    # Generate two points from a uniform distribution over [-1, 1]x[-1, 1]\n",
    "    p1 = np.random.uniform(-1, 1, 2)\n",
    "    p2 = np.random.uniform(-1, 1, 2)\n",
    "    # Compute the target W from these two points\n",
    "    target_w = np.array([p1[1]*p2[0] - p1[0]*p2[1], p2[1] - p1[1], p1[0] - p2[0]]).reshape((-1, 1))\n",
    "    \n",
    "    return target_w"
   ]
  },
  {
   "cell_type": "markdown",
   "metadata": {},
   "source": [
    "#### Hàm phát sinh ra tập dữ liệu"
   ]
  },
  {
   "cell_type": "code",
   "execution_count": 3,
   "metadata": {},
   "outputs": [],
   "source": [
    "def generate_data(N, target_w):\n",
    "    \"\"\"\n",
    "    Generates a data set by generating random inputs and then using target_w to generate the \n",
    "    corresponding outputs.\n",
    "    \n",
    "    Parameters\n",
    "    ----------\n",
    "    N : int\n",
    "        The number of examples.\n",
    "    target_w : numpy array, shape (3, 1) \n",
    "        The vector of parameters of f.\n",
    "    \n",
    "    Returns\n",
    "    -------\n",
    "    X : numpy array, shape (N, 3)\n",
    "        The matrix of input vectors (each row corresponds to an input vector); the first column of \n",
    "        this matrix is all ones.\n",
    "    Y : numpy array, shape (N, 1)\n",
    "        The vector of outputs.        \n",
    "    \"\"\"\n",
    "    bad_data = True # `bad_data = True` means: data contain points on the target line \n",
    "                    # (this rarely happens, but just to be careful)\n",
    "                    # -> y's of these points = 0 (with np.sign); \n",
    "                    #    we don't want this (y's of data must be -1 or 1)\n",
    "                    # -> re-generate data until `bad_data = False`\n",
    "    \n",
    "    while bad_data == True:\n",
    "        X = np.random.uniform(-1, 1, (N, 2))\n",
    "        X = np.hstack((np.ones((N, 1)), X)) # Add 'ones' column\n",
    "        Y = np.sign(np.dot(X, target_w))\n",
    "        if (0 not in Y): # Good data\n",
    "            bad_data = False\n",
    "    \n",
    "    return X, Y"
   ]
  },
  {
   "cell_type": "markdown",
   "metadata": {},
   "source": [
    "#### Hàm chạy PLA"
   ]
  },
  {
   "cell_type": "code",
   "execution_count": 4,
   "metadata": {},
   "outputs": [],
   "source": [
    "def run_PLA(X, Y):\n",
    "    \"\"\"\n",
    "    Runs PLA.\n",
    "    \n",
    "    Parameters\n",
    "    ----------\n",
    "    X : numpy array, shape (N, 3)\n",
    "        The matrix of input vectors (each row corresponds to an input vector); the first column of \n",
    "        this matrix is all ones.\n",
    "    Y : numpy array, shape (N, 1)\n",
    "        The vector of outputs.\n",
    "    \n",
    "    Returns\n",
    "    -------\n",
    "    w : numpy array, shape (3, 1) \n",
    "        The vector of parameters of g.\n",
    "    num_iterations : int\n",
    "        The number of iterations PLA takes to converge.\n",
    "    \"\"\"\n",
    "    w = np.zeros((X.shape[1], 1)) # Init w\n",
    "    iteration = 0\n",
    "    \n",
    "    # TODO\n",
    "    while True:\n",
    "        iteration += 1\n",
    "        # Compute sign for each input vector with current w\n",
    "        h = np.sign(np.dot(X, w))\n",
    "        \n",
    "        # Find misclassified if existed\n",
    "        for i in range(0, X.shape[0]):\n",
    "            if h[i] != Y[i]:\n",
    "                change = X[i]*Y[i]\n",
    "                # Change current w to make X[i] classified\n",
    "                w = w + change.reshape((-1, 1))\n",
    "                break\n",
    "        \n",
    "        # Check if converged\n",
    "        if np.array_equal(h, Y) == True:\n",
    "            break\n",
    "    \n",
    "    return w, iteration"
   ]
  },
  {
   "cell_type": "markdown",
   "metadata": {},
   "source": [
    "#### Hàm main"
   ]
  },
  {
   "cell_type": "code",
   "execution_count": 5,
   "metadata": {},
   "outputs": [],
   "source": [
    "def main(N):\n",
    "    \"\"\"\n",
    "    Parameters\n",
    "    ----------\n",
    "    N : int\n",
    "        The number of training examples.\n",
    "    \"\"\"\n",
    "    num_runs = 1000\n",
    "    avg_num_iterations = 0.0 # The average number of iterations PLA takes to converge\n",
    "    avg_test_err = 0.0 # The average test error of g - the final hypothesis picked by PLA\n",
    "    \n",
    "    for r in range(num_runs):\n",
    "        # Generate target_w\n",
    "        target_w = generate_target_w()\n",
    "        \n",
    "        # Generate training set\n",
    "        X, Y = generate_data(N, target_w)\n",
    "        \n",
    "        # Run PLA to pick g\n",
    "        w, num_iterations = run_PLA(X, Y)\n",
    "        \n",
    "        # Generate test set\n",
    "        X_test, Y_test = generate_data(10000, target_w)\n",
    "        \n",
    "        # Test g\n",
    "        test_err = np.mean(np.sign(np.dot(X_test, w)) != Y_test)\n",
    "        \n",
    "        # Update average values\n",
    "        avg_num_iterations += (num_iterations * 1.0 / num_runs)\n",
    "        avg_test_err += (test_err * 1.0 / num_runs)\n",
    "    \n",
    "    # Print results\n",
    "    print('avg_num_iterations = %f' % (avg_num_iterations))\n",
    "    print('avg_test_err = %f' % (avg_test_err))"
   ]
  },
  {
   "cell_type": "markdown",
   "metadata": {},
   "source": [
    "### Chạy"
   ]
  },
  {
   "cell_type": "code",
   "execution_count": 6,
   "metadata": {},
   "outputs": [
    {
     "name": "stdout",
     "output_type": "stream",
     "text": [
      "avg_num_iterations = 19.459000\n",
      "avg_test_err = 0.112710\n"
     ]
    }
   ],
   "source": [
    "main(N=10) # We can use `main(10)`, but `main(N=10)` is clearer"
   ]
  },
  {
   "cell_type": "markdown",
   "metadata": {},
   "source": [
    "Câu 7: Ta thấy kết quả gần nhất với đáp án [b] 15.\n",
    "\n",
    "Câu 8: Ta thấy kết quả gần nhất với đáp án [c] 0.1."
   ]
  },
  {
   "cell_type": "code",
   "execution_count": 8,
   "metadata": {},
   "outputs": [
    {
     "name": "stdout",
     "output_type": "stream",
     "text": [
      "avg_num_iterations = 229.678000\n",
      "avg_test_err = 0.014024\n"
     ]
    }
   ],
   "source": [
    "main(N=100)"
   ]
  },
  {
   "cell_type": "markdown",
   "metadata": {},
   "source": [
    "Câu 9: Ta thấy kết quả gần nhất với đáp án [b] 100.\n",
    "\n",
    "Câu 10: Ta thấy kết quả gần nhất với đáp án [b] 0.01."
   ]
  },
  {
   "cell_type": "markdown",
   "metadata": {},
   "source": [
    "## Tham khảo: \n",
    "1. [Perceptron Learning Algorithm](https://machinelearningcoban.com/2017/01/21/perceptron/)\n",
    "2. [NumPy v1.16 Manual](https://docs.scipy.org/doc/numpy/)\n",
    "3. [Markdown Cheatsheet](https://github.com/adam-p/markdown-here/wiki/Markdown-Cheatsheet)"
   ]
  }
 ],
 "metadata": {
  "kernelspec": {
   "display_name": "Python 3",
   "language": "python",
   "name": "python3"
  },
  "language_info": {
   "codemirror_mode": {
    "name": "ipython",
    "version": 3
   },
   "file_extension": ".py",
   "mimetype": "text/x-python",
   "name": "python",
   "nbconvert_exporter": "python",
   "pygments_lexer": "ipython3",
   "version": "3.7.1"
  }
 },
 "nbformat": 4,
 "nbformat_minor": 2
}
