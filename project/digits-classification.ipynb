{
 "cells": [
  {
   "cell_type": "code",
   "execution_count": 1,
   "metadata": {},
   "outputs": [],
   "source": [
    "import numpy as np\n",
    "import matplotlib.pyplot as plt\n",
    "import pickle\n",
    "import gzip"
   ]
  },
  {
   "cell_type": "code",
   "execution_count": 2,
   "metadata": {},
   "outputs": [],
   "source": [
    "def read_mnist(mnist_file):\n",
    "    \"\"\"\n",
    "    Reads MNIST data.\n",
    "    \n",
    "    Parameters\n",
    "    ----------\n",
    "    mnist_file : string\n",
    "        The name of the MNIST file (e.g., 'mnist.pkl.gz').\n",
    "    \n",
    "    Returns\n",
    "    -------\n",
    "    (train_X, train_Y, val_X, val_Y, test_X, test_Y) : tuple\n",
    "        train_X : numpy array, shape (N=50000, d=784)\n",
    "            Input vectors of the training set.\n",
    "        train_Y: numpy array, shape (N=50000)\n",
    "            Outputs of the training set.\n",
    "        val_X : numpy array, shape (N=10000, d=784)\n",
    "            Input vectors of the validation set.\n",
    "        val_Y: numpy array, shape (N=10000)\n",
    "            Outputs of the validation set.\n",
    "        test_X : numpy array, shape (N=10000, d=784)\n",
    "            Input vectors of the test set.\n",
    "        test_Y: numpy array, shape (N=10000)\n",
    "            Outputs of the test set.\n",
    "    \"\"\"\n",
    "    f = gzip.open(mnist_file, 'rb')\n",
    "    train_data, val_data, test_data = pickle.load(f, encoding='latin1')\n",
    "    f.close()\n",
    "    \n",
    "    train_X, train_Y = train_data\n",
    "    val_X, val_Y = val_data\n",
    "    test_X, test_Y = test_data    \n",
    "    \n",
    "    return train_X, train_Y, val_X, val_Y, test_X, test_Y"
   ]
  },
  {
   "cell_type": "markdown",
   "metadata": {},
   "source": [
    "#### Đọc dữ liệu từ file"
   ]
  },
  {
   "cell_type": "code",
   "execution_count": 3,
   "metadata": {},
   "outputs": [
    {
     "name": "stdout",
     "output_type": "stream",
     "text": [
      "train_X.shape = (50000, 784)\n",
      "train_Y.shape = (50000,)\n",
      "val_X.shape   = (10000, 784)\n",
      "val_Y.shape   = (10000,)\n",
      "test_X.shape  = (10000, 784)\n",
      "test_Y.shape  = (10000,)\n",
      "\n",
      "train_X: min = 0.000, max = 0.996\n",
      "train_Y: min = 0, max = 9\n"
     ]
    }
   ],
   "source": [
    "# Test\n",
    "train_X, train_Y, val_X, val_Y, test_X, test_Y = read_mnist('mnist.pkl.gz')\n",
    "\n",
    "print('train_X.shape =', train_X.shape)\n",
    "print('train_Y.shape =', train_Y.shape)\n",
    "print('val_X.shape   =', val_X.shape)\n",
    "print('val_Y.shape   =', val_Y.shape)\n",
    "print('test_X.shape  =', test_X.shape)\n",
    "print('test_Y.shape  =', test_Y.shape)\n",
    "\n",
    "print('\\ntrain_X: min = %.3f, max = %.3f' %(train_X.min(), train_X.max()))\n",
    "print('train_Y: min = %d, max = %d' %(train_Y.min(), train_Y.max()))"
   ]
  },
  {
   "cell_type": "markdown",
   "metadata": {},
   "source": [
    "### RBF kernel"
   ]
  },
  {
   "cell_type": "markdown",
   "metadata": {},
   "source": [
    "#### Hàm run_RBF_kernel chạy SVC với kernel 'rbf'"
   ]
  },
  {
   "cell_type": "code",
   "execution_count": 6,
   "metadata": {},
   "outputs": [],
   "source": [
    "from sklearn.svm import SVC\n",
    "def run_RBF_kernel(train_X, train_Y, val_X, val_Y, c = 1.0, gamma = 0.001, max_iter = -1):\n",
    "    \"\"\"\n",
    "    Input: \n",
    "        train_X: data huấn luyện\n",
    "        train_Y: label huấn luyện\n",
    "        val_X: data vaildation\n",
    "        val_Y: label validation\n",
    "        c: siêu tham số C\n",
    "        gamma: siêu tham số gamma \n",
    "        max_iter: giới hạn số vòng lặp\n",
    "    output:\n",
    "        training score, validation score\n",
    "    \"\"\"\n",
    "    training_score, validation_score = 0, 0\n",
    "    clf = SVC(C = c, kernel = 'rbf', gamma = gamma, max_iter = max_iter)\n",
    "    print(\"Training...\")\n",
    "    %time clf.fit(train_X, train_Y)\n",
    "    print(\"Training done!\")\n",
    "    training_score = clf.score(train_X, train_Y)\n",
    "    validation_score = clf.score(val_X, val_Y)\n",
    "    print(\"train score: \", training_score)\n",
    "    print(\"validation score: \", validation_score)\n",
    "    return (training_score, validation_score)"
   ]
  },
  {
   "cell_type": "markdown",
   "metadata": {},
   "source": [
    "#### Hàm run_SVM_RBF_kernel chạy SVC kernel 'rbf' với tập C và gammas\n",
    "gọi lại hàm run_RBF_kernel"
   ]
  },
  {
   "cell_type": "code",
   "execution_count": 7,
   "metadata": {},
   "outputs": [],
   "source": [
    "def run_SVM_RBF_kernel(C, gammas, max_iter = -1):\n",
    "    \"\"\"\n",
    "    Input: \n",
    "        C: tập chứa siêu tham số C\n",
    "        gammas: tập chứa siêu tham số gammas\n",
    "        max_iters: số vòng lặp tối đa\n",
    "    Output:\n",
    "        err_vals: danh sách độ lỗi trên tập validation ứng với c và gamma tương ứng.\n",
    "        err_train: danh sách độ lỗi trên tập train ứng với c và gamma tương ứng.\n",
    "    \"\"\"\n",
    "    training_score, validation_score = 0, 0\n",
    "    err_vals = []\n",
    "    err_trains = []\n",
    "    for c in C:\n",
    "        for gamma in gammas:\n",
    "            print(\"C = %s, gamma = %s\" %(c, gamma))\n",
    "            (training_score, validation_score) = run_RBF_kernel(train_X, train_Y, val_X, val_Y, c, gamma, max_iter)\n",
    "            err_train = 1 - training_score\n",
    "            err_val = 1 - validation_score\n",
    "            print(\"Error train: \", err_train)\n",
    "            print(\"Error validation: \", err_val)\n",
    "            err_vals.append(err_val)\n",
    "            err_trains.append(err_train)\n",
    "    return err_vals, err_trains"
   ]
  },
  {
   "cell_type": "markdown",
   "metadata": {},
   "source": [
    "#### chạy hàm run_SVM_RBF_kernel với C = 0.1 -> 1000, gamma = 0.001 -> 01."
   ]
  },
  {
   "cell_type": "code",
   "execution_count": null,
   "metadata": {},
   "outputs": [],
   "source": [
    "C = [0.1, 1, 10, 100, 1000]\n",
    "gammas = [0.001, 0.01, 0.1]\n",
    "run_SVM_RBF_kernel(C, gammas, max_iter = -1)"
   ]
  },
  {
   "cell_type": "markdown",
   "metadata": {},
   "source": [
    "#### chạy hàm run_SVM_RBF_kernel với C = 2 -> 9, gamma = 0.01. "
   ]
  },
  {
   "cell_type": "code",
   "execution_count": null,
   "metadata": {},
   "outputs": [],
   "source": [
    "C = [2, 3, 4, 5, 6, 7, 8, 9]\n",
    "gammas = [0.01]\n",
    "run_SVM_RBF_kernel(C, gammas, max_iter = -1)"
   ]
  },
  {
   "cell_type": "markdown",
   "metadata": {},
   "source": [
    "---"
   ]
  },
  {
   "cell_type": "markdown",
   "metadata": {},
   "source": [
    "### Linear kernel"
   ]
  },
  {
   "cell_type": "markdown",
   "metadata": {},
   "source": [
    "#### Hàm run_SVC_linear_kernel chạy SVC kernel 'linear'"
   ]
  },
  {
   "cell_type": "code",
   "execution_count": 8,
   "metadata": {},
   "outputs": [],
   "source": [
    "def run_SVC_linear_kernel(train_X, train_Y, val_X, val_Y, c):\n",
    "    \"\"\"\n",
    "    Input:\n",
    "        train_X, train_Y: tập dữ liệu training\n",
    "        val_X, val_Y: tập dữ liệu validation\n",
    "        c: siêu tham số C\n",
    "    Output:\n",
    "        err_val, err_train\n",
    "    \"\"\"\n",
    "    clf = SVC(kernel = 'linear', C = c) # sử dụng SVC kernel = 'linear'\n",
    "    print(\"Training...\")\n",
    "    %time clf.fit(train_X, train_Y)\n",
    "    training_score = clf.score(train_X, train_Y)\n",
    "    validation_score = clf.score(val_X, val_Y)\n",
    "    err_train = 1 - training_score\n",
    "    err_val = 1 - validation_score\n",
    "    \n",
    "    #train_pred = clf.predict(train_X)\n",
    "    #train_subs = train_pred - train_Y\n",
    "    #val_pred = clf.predict(val_X)\n",
    "    #val_subs = val_pred - val_Y\n",
    "    #err_train = np.count_nonzero(train_subs) / train_subs.shape[0]\n",
    "    #err_val = np.count_nonzero(val_subs) / val_subs.shape[0]\n",
    "    \n",
    "    print(\"training score: \", training_score)\n",
    "    print(\"validation score: \", validation_score)\n",
    "    return (err_train, err_val)"
   ]
  },
  {
   "cell_type": "markdown",
   "metadata": {},
   "source": [
    "#### Hàm run_SVM_SVC_linear_kernel chạy SVC với tập siêu tham số C\n",
    "sử dụng lại hàm run_SVC_linear_kernel"
   ]
  },
  {
   "cell_type": "code",
   "execution_count": 9,
   "metadata": {},
   "outputs": [],
   "source": [
    "def run_SVM_SVC_linear_kernel(C):\n",
    "    \"\"\"\n",
    "    Input:\n",
    "        C: tập các siêu tham số C\n",
    "    Output:\n",
    "        err_vals: danh sách độ lỗi trên tập validation với c tương ứng.\n",
    "        err_trains: danh sách độ lỗi trên tập training với c tương ứng.\n",
    "    \"\"\"\n",
    "    err_vals = []\n",
    "    err_trains = []\n",
    "    err_val, err_train = 0, 0\n",
    "    for c in C:\n",
    "        print(\"C = \", c)\n",
    "        (err_train, err_val) = run_SVC_linear_kernel(train_X, train_Y, val_X, val_Y, c)\n",
    "        print(\"Training Error: \", err_train)\n",
    "        print(\"Validation Error: \", err_val)\n",
    "        err_vals.append(err_val)\n",
    "        err_trains.append(err_train)\n",
    "    return err_vals, err_trains"
   ]
  },
  {
   "cell_type": "code",
   "execution_count": null,
   "metadata": {},
   "outputs": [],
   "source": [
    "C = [0.01, 0.05, 0.1, 0.11, 0.12, 0.2, 0.5, 0.8, 0.9, 1, 10, 100, 1000]\n",
    "err_vals, err_trains = run_SVM_SVC_linear_kernel(C)"
   ]
  },
  {
   "cell_type": "markdown",
   "metadata": {},
   "source": [
    "### SVC kernel 'rbf' với bộ siêu tham số C = 10, gamma = 0.01 với tập test"
   ]
  },
  {
   "cell_type": "code",
   "execution_count": null,
   "metadata": {},
   "outputs": [],
   "source": [
    "run_RBF_kernel(train_X, train_Y, test_X, test_Y, c = 10, gamma = 0.01, max_iter = -1)"
   ]
  }
 ],
 "metadata": {
  "kernelspec": {
   "display_name": "Python 3",
   "language": "python",
   "name": "python3"
  },
  "language_info": {
   "codemirror_mode": {
    "name": "ipython",
    "version": 3
   },
   "file_extension": ".py",
   "mimetype": "text/x-python",
   "name": "python",
   "nbconvert_exporter": "python",
   "pygments_lexer": "ipython3",
   "version": "3.7.1"
  }
 },
 "nbformat": 4,
 "nbformat_minor": 2
}
